{
 "cells": [
  {
   "cell_type": "markdown",
   "metadata": {},
   "source": [
    "## Import libraries"
   ]
  },
  {
   "cell_type": "code",
   "execution_count": 1,
   "metadata": {},
   "outputs": [
    {
     "name": "stderr",
     "output_type": "stream",
     "text": [
      "UsageError: Line magic function `%` not found.\n"
     ]
    }
   ],
   "source": [
    "import pandas as pd\n",
    "import numpy as np\n",
    "import scipy.stats as stats\n",
    "from statsmodels.stats import proportion as proptests\n",
    "\n",
    "import matplotlib.pyplot as plt\n",
    "% matplotlib inline"
   ]
  },
  {
   "cell_type": "markdown",
   "metadata": {},
   "source": [
    "## Load data"
   ]
  },
  {
   "cell_type": "code",
   "execution_count": 2,
   "metadata": {},
   "outputs": [
    {
     "name": "stdout",
     "output_type": "stream",
     "text": [
      "Loaded training data: size (84534, 10)\n",
      "Loaded testing data: size (41650, 10)\n",
      "----------------\n",
      "train_df:\n"
     ]
    },
    {
     "data": {
      "text/html": [
       "<div>\n",
       "<style scoped>\n",
       "    .dataframe tbody tr th:only-of-type {\n",
       "        vertical-align: middle;\n",
       "    }\n",
       "\n",
       "    .dataframe tbody tr th {\n",
       "        vertical-align: top;\n",
       "    }\n",
       "\n",
       "    .dataframe thead th {\n",
       "        text-align: right;\n",
       "    }\n",
       "</style>\n",
       "<table border=\"1\" class=\"dataframe\">\n",
       "  <thead>\n",
       "    <tr style=\"text-align: right;\">\n",
       "      <th></th>\n",
       "      <th>ID</th>\n",
       "      <th>Promotion</th>\n",
       "      <th>purchase</th>\n",
       "      <th>V1</th>\n",
       "      <th>V2</th>\n",
       "      <th>V3</th>\n",
       "      <th>V4</th>\n",
       "      <th>V5</th>\n",
       "      <th>V6</th>\n",
       "      <th>V7</th>\n",
       "    </tr>\n",
       "  </thead>\n",
       "  <tbody>\n",
       "    <tr>\n",
       "      <th>0</th>\n",
       "      <td>1</td>\n",
       "      <td>No</td>\n",
       "      <td>0</td>\n",
       "      <td>2</td>\n",
       "      <td>30.443518</td>\n",
       "      <td>-1.165083</td>\n",
       "      <td>1</td>\n",
       "      <td>1</td>\n",
       "      <td>3</td>\n",
       "      <td>2</td>\n",
       "    </tr>\n",
       "    <tr>\n",
       "      <th>1</th>\n",
       "      <td>3</td>\n",
       "      <td>No</td>\n",
       "      <td>0</td>\n",
       "      <td>3</td>\n",
       "      <td>32.159350</td>\n",
       "      <td>-0.645617</td>\n",
       "      <td>2</td>\n",
       "      <td>3</td>\n",
       "      <td>2</td>\n",
       "      <td>2</td>\n",
       "    </tr>\n",
       "    <tr>\n",
       "      <th>2</th>\n",
       "      <td>4</td>\n",
       "      <td>No</td>\n",
       "      <td>0</td>\n",
       "      <td>2</td>\n",
       "      <td>30.431659</td>\n",
       "      <td>0.133583</td>\n",
       "      <td>1</td>\n",
       "      <td>1</td>\n",
       "      <td>4</td>\n",
       "      <td>2</td>\n",
       "    </tr>\n",
       "    <tr>\n",
       "      <th>3</th>\n",
       "      <td>5</td>\n",
       "      <td>No</td>\n",
       "      <td>0</td>\n",
       "      <td>0</td>\n",
       "      <td>26.588914</td>\n",
       "      <td>-0.212728</td>\n",
       "      <td>2</td>\n",
       "      <td>1</td>\n",
       "      <td>4</td>\n",
       "      <td>2</td>\n",
       "    </tr>\n",
       "    <tr>\n",
       "      <th>4</th>\n",
       "      <td>8</td>\n",
       "      <td>Yes</td>\n",
       "      <td>0</td>\n",
       "      <td>3</td>\n",
       "      <td>28.044331</td>\n",
       "      <td>-0.385883</td>\n",
       "      <td>1</td>\n",
       "      <td>1</td>\n",
       "      <td>2</td>\n",
       "      <td>2</td>\n",
       "    </tr>\n",
       "  </tbody>\n",
       "</table>\n",
       "</div>"
      ],
      "text/plain": [
       "   ID Promotion  purchase  V1         V2        V3  V4  V5  V6  V7\n",
       "0   1        No         0   2  30.443518 -1.165083   1   1   3   2\n",
       "1   3        No         0   3  32.159350 -0.645617   2   3   2   2\n",
       "2   4        No         0   2  30.431659  0.133583   1   1   4   2\n",
       "3   5        No         0   0  26.588914 -0.212728   2   1   4   2\n",
       "4   8       Yes         0   3  28.044331 -0.385883   1   1   2   2"
      ]
     },
     "execution_count": 2,
     "metadata": {},
     "output_type": "execute_result"
    }
   ],
   "source": [
    "train_df = pd.read_csv('data/training.csv')\n",
    "print('Loaded training data: size {}'.format(train_df.shape))\n",
    "test_df = pd.read_csv('data/test.csv')\n",
    "print('Loaded testing data: size {}'.format(test_df.shape))\n",
    "print('----------------')\n",
    "print('train_df:')\n",
    "train_df.head()"
   ]
  },
  {
   "cell_type": "markdown",
   "metadata": {},
   "source": [
    "## Calculate number of customers and purchasers in treatment and control group\n",
    "\n",
    "* `Treatment` group: received promotion, need to test the effect of promotion program in this group\n",
    "* `Control` group: NOT received promotion"
   ]
  },
  {
   "cell_type": "code",
   "execution_count": 11,
   "metadata": {},
   "outputs": [
    {
     "name": "stdout",
     "output_type": "stream",
     "text": [
      "Total customers: 84534\n",
      "Number of customers in treatment group: 42364\n",
      "Number of customers in control group: 42170\n",
      "Number of purchasers in treatment group: 721\n",
      "Number of purchasers in control group: 319\n"
     ]
    }
   ],
   "source": [
    "totalCustomer = train_df.shape[0]\n",
    "numberCustomerTreatment = train_df['Promotion'].value_counts()[0]\n",
    "numberCustomerControl = train_df['Promotion'].value_counts()[1]\n",
    "numberPurchaserTreatment = train_df.groupby('Promotion')['purchase'].sum()[1]\n",
    "numberPurchaserControl = train_df.groupby('Promotion')['purchase'].sum()[0]\n",
    "\n",
    "print('Total customers: {}'.format(totalCustomer))\n",
    "print('Number of customers in treatment group: {}'.format(numberCustomerTreatment))\n",
    "print('Number of customers in control group: {}'.format(numberCustomerControl))\n",
    "print('Number of purchasers in treatment group: {}'.format(numberPurchaserTreatment))\n",
    "print('Number of purchasers in control group: {}'.format(numberPurchaserControl))"
   ]
  },
  {
   "cell_type": "markdown",
   "metadata": {},
   "source": [
    "## Calculate IRR and NIR\n",
    "\n",
    "`IRR (Incremental Response Rate)` depicts how many more customers purchased the product with the promotion, as compared to if they didn't receive the promotion.\n",
    "\n",
    "$$ IRR = \\frac{purchasers_{treatment}}{customers_{treatment}} - \\frac{purchasers_{control}}{customers_{control}} $$\n",
    "\n",
    "\n",
    "`NIR (Net Incremental Revenue)` depicts how much is made (or lost) by sending out the promotion\n",
    "\n",
    "$$ NIR = (10\\cdot purchasers_{treatment} - 0.15 \\cdot customers_{treatment}) - 10 \\cdot purchasers_{control}$$"
   ]
  },
  {
   "cell_type": "code",
   "execution_count": 12,
   "metadata": {},
   "outputs": [
    {
     "name": "stdout",
     "output_type": "stream",
     "text": [
      "IRR = 0.009454547819772702\n",
      "NIR = -2334.5999999999995\n"
     ]
    }
   ],
   "source": [
    "IRR = (numberPurchaserTreatment/numberCustomerTreatment) - (numberPurchaserControl/numberCustomerControl)\n",
    "print('IRR = {}'.format(IRR))\n",
    "\n",
    "NIR = (10*numberPurchaserTreatment - 0.15*numberCustomerTreatment) - 10*numberPurchaserControl\n",
    "print('NIR = {}'.format(NIR))"
   ]
  },
  {
   "cell_type": "markdown",
   "metadata": {},
   "source": [
    "## Hypothesis\n",
    "\n",
    "`Bootstrapping` method is used to test hypotheses.\n",
    "\n",
    "By estimate sampling distributions that uses the actually collected data to generate new samples that could have been hypothetically collected. In a standard bootstrap, a bootstrapped sample means drawing points from the original data _with replacement_ until we get as many points as there were in the original data. Essentially, we're treating the original data as the population: without making assumptions about the original population distribution, using the original data as a model of the population is the best that we can do."
   ]
  },
  {
   "cell_type": "markdown",
   "metadata": {},
   "source": [
    "### Hypothesis 1\n",
    "\n",
    "* H0: $numberCustomerTreatment = numberCustomerControl$\n",
    "* Ha: $numberCustomerTreatment \\ne numberCustomerControl$\n",
    "\n",
    "$\\alpha$ = 0.05 (significance level)\n"
   ]
  },
  {
   "cell_type": "markdown",
   "metadata": {},
   "source": [
    "### Test hypothesis 1\n",
    "\n",
    "Whether the difference between number of customers in treatment group and control group is statistically significant."
   ]
  },
  {
   "cell_type": "code",
   "execution_count": 6,
   "metadata": {},
   "outputs": [
    {
     "name": "stdout",
     "output_type": "stream",
     "text": [
      "p-value from the observed outcome: 0.50646\n"
     ]
    }
   ],
   "source": [
    "# ## simulate outcomes under null, compare to observed outcome\n",
    "# p = 0.5\n",
    "# n_trials = 200_000\n",
    "\n",
    "# samples = np.random.binomial(totalCustomer, p, n_trials)\n",
    "# p_value = np.logical_or(samples <= numberCustomerControl, samples >= numberCustomerTreatment).mean()\n",
    "\n",
    "# print(\"p-value from the observed outcome: {p}\".format(p=p_value))"
   ]
  },
  {
   "cell_type": "code",
   "execution_count": 10,
   "metadata": {},
   "outputs": [
    {
     "data": {
      "text/plain": [
       "0.5819"
      ]
     },
     "execution_count": 10,
     "metadata": {},
     "output_type": "execute_result"
    }
   ],
   "source": [
    "sss = int(round(train_df.shape[0] * 0.2,0))  # Sub Sample Size\n",
    "\n",
    "prom_avg = []\n",
    "non_prom_avg = []\n",
    "differences = []\n",
    "\n",
    "for _ in range(10000):\n",
    "    \n",
    "    sub_sample = train_df.sample(sss, replace=True)\n",
    "    promotion_avg = ((sub_sample.Promotion == \"Yes\").sum())/sub_sample.shape[0]\n",
    "    non_promotion_avg = (sub_sample.Promotion == \"No\").sum()/sub_sample.shape[0]\n",
    "    \n",
    "    prom_avg.append(promotion_avg)\n",
    "    non_prom_avg.append(non_promotion_avg)\n",
    "    differences.append(promotion_avg - non_promotion_avg)\n",
    "\n",
    "null_vals = np.random.normal(0, np.std(differences), 10000)\n",
    "\n",
    "# Determining the signifigance of our result \n",
    "p_val = (differences>null_vals).mean()\n",
    "p_val"
   ]
  },
  {
   "cell_type": "markdown",
   "metadata": {},
   "source": [
    "Because `p_value = 0.5068` > $\\alpha$ = 0.05, the null hypothesis is accepted. That means there's no statistical difference in the sampling population. If it's statistical significant, this will require us to revise random assignment procedures and re-do data collection. This hypothesis testing is to make sure our inferences on the desired metrics are not founded on bias due to sampling population."
   ]
  },
  {
   "cell_type": "markdown",
   "metadata": {},
   "source": [
    "### Hypothesis 2\n",
    "\n",
    "* H0: Incremental Response Rate  = 0\n",
    "* Ha: Incremental Response Rate > 0\n",
    "\n",
    "$\\alpha$ = 0.05 (significance level)\n",
    "\n"
   ]
  },
  {
   "cell_type": "markdown",
   "metadata": {},
   "source": [
    "### Test hypothesis 2\n",
    "Whether the promotion program had a positive effect on `IRR` metric"
   ]
  },
  {
   "cell_type": "code",
   "execution_count": 8,
   "metadata": {},
   "outputs": [],
   "source": [
    "# # compute p-value\n",
    "# p_null = train_df['purchase'].mean()\n",
    "# se_p = np.sqrt(p_null * (1-p_null) * (1/numberCustomerControl + 1/numberCustomerTreatment))\n",
    "\n",
    "# z_score = IRR/se_p\n",
    "# p_val = 1-stats.norm.cdf(z_score)\n",
    "\n",
    "# print(\"p-value: {p}\".format(p=p_val))"
   ]
  },
  {
   "cell_type": "code",
   "execution_count": 9,
   "metadata": {},
   "outputs": [
    {
     "name": "stdout",
     "output_type": "stream",
     "text": [
      "p_value: 0.0003\n"
     ]
    }
   ],
   "source": [
    "# Bootstraping our differences to get a model of the distribution for our null\n",
    "sub_sample_size = 5000\n",
    "IRRs = []\n",
    "n_trials = 10000\n",
    "for _ in range(n_trials):\n",
    "    bootsample2 = train_df.sample(sub_sample_size, replace=True)\n",
    "    purchase_treatment = bootsample2[bootsample2['Promotion'] == \"Yes\"].purchase.sum()\n",
    "    customer_treatment = bootsample2[bootsample2['Promotion'] == \"Yes\"].shape[0]\n",
    "    purchase_control = bootsample2[bootsample2['Promotion'] == \"No\"].purchase.sum()\n",
    "    customer_control = bootsample2[bootsample2['Promotion'] == \"No\"].shape[0]\n",
    "    IRR_boot = purchase_treatment/customer_treatment - purchase_control/customer_control\n",
    "    IRRs.append(IRR_boot)\n",
    "    \n",
    "null_IRRs = np.random.normal(sum(IRRs)/sub_sample_size, np.std(IRRs), n_trials)\n",
    "\n",
    "# Calculating p_value\n",
    "p_val_IRR = (IRR > null_IRRs).mean()\n",
    "print('p_value: {}'.format(p_val_IRR))"
   ]
  },
  {
   "cell_type": "code",
   "execution_count": null,
   "metadata": {},
   "outputs": [],
   "source": []
  },
  {
   "cell_type": "code",
   "execution_count": null,
   "metadata": {},
   "outputs": [],
   "source": []
  },
  {
   "cell_type": "code",
   "execution_count": null,
   "metadata": {},
   "outputs": [],
   "source": []
  },
  {
   "cell_type": "markdown",
   "metadata": {},
   "source": [
    "### Hypothesis 3\n",
    "\n",
    "* H0: Net Incremental Revenue = 0\n",
    "* Ha: Net Incremental Revenue > 0\n",
    "\n",
    "$\\alpha$ = 0.05 (significance level)\n",
    "\n"
   ]
  },
  {
   "cell_type": "markdown",
   "metadata": {},
   "source": [
    "### Test hypothesis 3\n",
    "Whether the promotion program had a positive effect on `NIR` metric"
   ]
  },
  {
   "cell_type": "code",
   "execution_count": null,
   "metadata": {},
   "outputs": [],
   "source": []
  },
  {
   "cell_type": "code",
   "execution_count": null,
   "metadata": {},
   "outputs": [],
   "source": []
  },
  {
   "cell_type": "code",
   "execution_count": null,
   "metadata": {},
   "outputs": [],
   "source": []
  }
 ],
 "metadata": {
  "kernelspec": {
   "display_name": "Python 3",
   "language": "python",
   "name": "python3"
  },
  "language_info": {
   "codemirror_mode": {
    "name": "ipython",
    "version": 3
   },
   "file_extension": ".py",
   "mimetype": "text/x-python",
   "name": "python",
   "nbconvert_exporter": "python",
   "pygments_lexer": "ipython3",
   "version": "3.11.3"
  },
  "orig_nbformat": 4
 },
 "nbformat": 4,
 "nbformat_minor": 2
}
